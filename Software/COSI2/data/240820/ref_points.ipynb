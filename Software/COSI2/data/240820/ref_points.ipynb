{
 "cells": [
  {
   "cell_type": "code",
   "execution_count": 23,
   "metadata": {},
   "outputs": [
    {
     "name": "stdout",
     "output_type": "stream",
     "text": [
      "hi\n",
      "[233.5, 447.0, 204.2]\n"
     ]
    }
   ],
   "source": [
    "print(\"hi\")\n",
    "import numpy as np\n",
    "# magnet facing upwards\n",
    "pr=np.array([54.000,447,206.00]) # X:54.000 Y:453.000 Z:206.000 add 6 to y\n",
    "pl=np.array([413.000,447.000,211.000]) # X:413.000 Y:453.000 Z:211.000 add 6 to y\n",
    "pt=np.array([239.000,447.000,378.000]) # X:239.000 Y:453.000 Z:383.000 add 5 to y\n",
    "\n",
    "pcxz=(pr+pl)/2\n",
    "pcxz = [233.5, 447.0,  204.2]\n",
    "\n",
    "print(pcxz)"
   ]
  },
  {
   "cell_type": "code",
   "execution_count": 24,
   "metadata": {},
   "outputs": [
    {
     "name": "stdout",
     "output_type": "stream",
     "text": [
      "[  5.5   0.  173.8]\n",
      "[-359.    0.   -5.]\n",
      "[-179.5    0.     1.8]\n",
      "[  5.5   0.  173.8]\n",
      "[ 0.00377097 -0.99998745  0.00329778]\n",
      "[234.30717523 232.95268587 204.90588943]\n"
     ]
    }
   ],
   "source": [
    "pz = pt - pcxz\n",
    "print(pz)\n",
    "px = pr-pl\n",
    "print(px)\n",
    "py = np.cross(px,pz)\n",
    "py\n",
    "p_x = pr-pcxz\n",
    "print(p_x)\n",
    "p_z = pt-pcxz\n",
    "print(p_z)\n",
    "p_y_big = np.cross(p_z,px)+pcxz\n",
    "p_y = p_y_big/np.linalg.norm(p_y_big)\n",
    "print(p_y)\n",
    "probe_distance_from_tip = 2.05\n",
    "centerpoint = pcxz+p_y*(212) + p_y*probe_distance_from_tip\n",
    "2.05\n",
    "print(centerpoint)"
   ]
  },
  {
   "cell_type": "code",
   "execution_count": null,
   "metadata": {},
   "outputs": [],
   "source": []
  },
  {
   "cell_type": "code",
   "execution_count": null,
   "metadata": {},
   "outputs": [],
   "source": []
  },
  {
   "cell_type": "code",
   "execution_count": null,
   "metadata": {},
   "outputs": [],
   "source": []
  },
  {
   "cell_type": "code",
   "execution_count": null,
   "metadata": {},
   "outputs": [],
   "source": []
  },
  {
   "cell_type": "code",
   "execution_count": null,
   "metadata": {},
   "outputs": [],
   "source": []
  },
  {
   "cell_type": "code",
   "execution_count": null,
   "metadata": {},
   "outputs": [],
   "source": []
  },
  {
   "cell_type": "code",
   "execution_count": null,
   "metadata": {},
   "outputs": [],
   "source": []
  },
  {
   "cell_type": "code",
   "execution_count": null,
   "metadata": {},
   "outputs": [],
   "source": []
  },
  {
   "cell_type": "code",
   "execution_count": null,
   "metadata": {},
   "outputs": [],
   "source": []
  }
 ],
 "metadata": {
  "kernelspec": {
   "display_name": "base",
   "language": "python",
   "name": "python3"
  },
  "language_info": {
   "codemirror_mode": {
    "name": "ipython",
    "version": 3
   },
   "file_extension": ".py",
   "mimetype": "text/x-python",
   "name": "python",
   "nbconvert_exporter": "python",
   "pygments_lexer": "ipython3",
   "version": "3.9.2"
  }
 },
 "nbformat": 4,
 "nbformat_minor": 2
}
