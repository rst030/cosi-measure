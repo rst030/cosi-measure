{
 "cells": [
  {
   "cell_type": "code",
   "execution_count": 11,
   "metadata": {},
   "outputs": [
    {
     "name": "stdout",
     "output_type": "stream",
     "text": [
      "hi\n",
      "[246.   375.5  133.25]\n"
     ]
    }
   ],
   "source": [
    "print(\"hi\")\n",
    "import numpy as np\n",
    "# magnet facing cosi\n",
    "pr=np.array([2.000, 381.500, 129.000 ]) # X:2.000 Y:381.500 Z:129.000 \n",
    "pl=np.array([490.000, 369.500, 137.500]) # X:490.000 Y:369.500 Z:137.500\n",
    "pt=np.array([248.500, 379.000, 376.000]) # X:248.500 Y:379.000 Z:376.000\n",
    "\n",
    "pcxz=(pr+pl)/2\n",
    "\n",
    "print(pcxz)"
   ]
  },
  {
   "cell_type": "code",
   "execution_count": 13,
   "metadata": {},
   "outputs": [
    {
     "name": "stdout",
     "output_type": "stream",
     "text": [
      "[  2.5    3.5  242.75]\n"
     ]
    }
   ],
   "source": [
    "pz = pt - pcxz\n",
    "print(pz)"
   ]
  },
  {
   "cell_type": "code",
   "execution_count": 15,
   "metadata": {},
   "outputs": [
    {
     "name": "stdout",
     "output_type": "stream",
     "text": [
      "[-488.    12.    -8.5]\n"
     ]
    }
   ],
   "source": [
    "px = pr-pl\n",
    "print(px)"
   ]
  },
  {
   "cell_type": "code",
   "execution_count": 17,
   "metadata": {},
   "outputs": [],
   "source": [
    "py = np.cross(px,pz)"
   ]
  },
  {
   "cell_type": "code",
   "execution_count": 19,
   "metadata": {},
   "outputs": [
    {
     "data": {
      "text/plain": [
       "array([  2942.75, 118440.75,  -1738.  ])"
      ]
     },
     "execution_count": 19,
     "metadata": {},
     "output_type": "execute_result"
    }
   ],
   "source": [
    "py"
   ]
  },
  {
   "cell_type": "code",
   "execution_count": 21,
   "metadata": {},
   "outputs": [
    {
     "name": "stdout",
     "output_type": "stream",
     "text": [
      "[-244.      6.     -4.25]\n"
     ]
    }
   ],
   "source": [
    "p_x = pr-pcxz\n",
    "print(p_x)"
   ]
  },
  {
   "cell_type": "code",
   "execution_count": 23,
   "metadata": {},
   "outputs": [
    {
     "name": "stdout",
     "output_type": "stream",
     "text": [
      "[  2.5    3.5  242.75]\n"
     ]
    }
   ],
   "source": [
    "p_z = pt-pcxz\n",
    "print(p_z)"
   ]
  },
  {
   "cell_type": "code",
   "execution_count": 25,
   "metadata": {},
   "outputs": [
    {
     "name": "stdout",
     "output_type": "stream",
     "text": [
      "[-0.02283236 -0.99961376  0.01584317]\n"
     ]
    }
   ],
   "source": [
    "p_y_big = np.cross(p_z,px)+pcxz\n",
    "p_y = p_y_big/np.linalg.norm(p_y_big)\n",
    "print(p_y)"
   ]
  },
  {
   "cell_type": "code",
   "execution_count": 27,
   "metadata": {},
   "outputs": [
    {
     "name": "stdout",
     "output_type": "stream",
     "text": [
      "[240.93007422 153.53576368 136.76797483]\n"
     ]
    }
   ],
   "source": [
    "probe_distance_from_tip = 2.05\n",
    "centerpoint = pcxz+p_y*220 + p_y*probe_distance_from_tip\n",
    "\n",
    "print(centerpoint)"
   ]
  },
  {
   "cell_type": "code",
   "execution_count": null,
   "metadata": {},
   "outputs": [],
   "source": [
    "import numpy as np\n",
    "\n",
    "center = np.array([100,100,100])\n",
    "radius = 50\n",
    "npoints = 5\n",
    "\n",
    "x = np.linspace(center[0]-radius, center[0]+radius, 2*npoints)\n",
    "y = np.linspace(center[1]-radius, center[1]+radius, 2*npoints)\n",
    "z = np.linspace(center[2]-radius, center[2]+radius, 2*npoints)\n",
    "\n",
    "xx, yy, zz = np.meshgrid(x,y,z)\n",
    "\n",
    "res = (xx-center[0])**2+(yy-center[1])**2+(zz-center[2])**2<=radius**2\n",
    "#print(np.shape(res))\n",
    "#print(res)\n",
    "\n",
    "it = np.nditer(res, flags=['f_index'])\n",
    "for entry in it:\n",
    "    if entry:\n",
    "        pass\n",
    "        #print(it.index)\n",
    "\n",
    "for iz in range(len(z)):\n",
    "    for iy in range(len(y)):\n",
    "        for ix in range(len(x)):\n",
    "            if res[ix,iy,iz]:\n",
    "                print(f\"{x[ix]}, {y[iy]}, {z[iz]}\")"
   ]
  },
  {
   "cell_type": "code",
   "execution_count": null,
   "metadata": {},
   "outputs": [],
   "source": []
  }
 ],
 "metadata": {
  "kernelspec": {
   "display_name": "base",
   "language": "python",
   "name": "python3"
  },
  "language_info": {
   "codemirror_mode": {
    "name": "ipython",
    "version": 3
   },
   "file_extension": ".py",
   "mimetype": "text/x-python",
   "name": "python",
   "nbconvert_exporter": "python",
   "pygments_lexer": "ipython3",
   "version": "3.9.2"
  }
 },
 "nbformat": 4,
 "nbformat_minor": 2
}
