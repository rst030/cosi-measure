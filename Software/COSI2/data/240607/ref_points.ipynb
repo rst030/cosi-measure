{
 "cells": [
  {
   "cell_type": "code",
   "execution_count": 1,
   "metadata": {},
   "outputs": [
    {
     "name": "stdout",
     "output_type": "stream",
     "text": [
      "hi\n",
      "[253. 370. 270.]\n"
     ]
    }
   ],
   "source": [
    "print(\"hi\")\n",
    "import numpy as np\n",
    "# magnet facing upwards\n",
    "pr=np.array([23,373,265]) # X:23.000 Y:373.000 Z:265.000\n",
    "pl=np.array([483,367,275]) # X:483.000 Y:367.000 Z:275.000\n",
    "pt=np.array([256,371,498]) # X:256.000 Y:371.000 Z:498.000\n",
    "\n",
    "pcxz=(pr+pl)/2\n",
    "\n",
    "print(pcxz)"
   ]
  },
  {
   "cell_type": "code",
   "execution_count": 2,
   "metadata": {},
   "outputs": [
    {
     "name": "stdout",
     "output_type": "stream",
     "text": [
      "[  3.   1. 228.]\n"
     ]
    }
   ],
   "source": [
    "pz = pt - pcxz\n",
    "print(pz)"
   ]
  },
  {
   "cell_type": "code",
   "execution_count": 3,
   "metadata": {},
   "outputs": [
    {
     "name": "stdout",
     "output_type": "stream",
     "text": [
      "[-460    6  -10]\n"
     ]
    }
   ],
   "source": [
    "px = pr-pl\n",
    "print(px)"
   ]
  },
  {
   "cell_type": "code",
   "execution_count": 4,
   "metadata": {},
   "outputs": [],
   "source": [
    "py = np.cross(px,pz)"
   ]
  },
  {
   "cell_type": "code",
   "execution_count": 5,
   "metadata": {},
   "outputs": [
    {
     "data": {
      "text/plain": [
       "array([  1378., 104850.,   -478.])"
      ]
     },
     "execution_count": 5,
     "metadata": {},
     "output_type": "execute_result"
    }
   ],
   "source": [
    "py"
   ]
  },
  {
   "cell_type": "code",
   "execution_count": 6,
   "metadata": {},
   "outputs": [
    {
     "name": "stdout",
     "output_type": "stream",
     "text": [
      "[-230.    3.   -5.]\n"
     ]
    }
   ],
   "source": [
    "p_x = pr-pcxz\n",
    "print(p_x)"
   ]
  },
  {
   "cell_type": "code",
   "execution_count": 7,
   "metadata": {},
   "outputs": [
    {
     "name": "stdout",
     "output_type": "stream",
     "text": [
      "[  3.   1. 228.]\n"
     ]
    }
   ],
   "source": [
    "p_z = pt-pcxz\n",
    "print(p_z)"
   ]
  },
  {
   "cell_type": "code",
   "execution_count": 8,
   "metadata": {},
   "outputs": [
    {
     "name": "stdout",
     "output_type": "stream",
     "text": [
      "[-0.01076671 -0.99991641  0.00715867]\n"
     ]
    }
   ],
   "source": [
    "p_y_big = np.cross(p_z,px)+pcxz\n",
    "p_y = p_y_big/np.linalg.norm(p_y_big)\n",
    "print(p_y)"
   ]
  },
  {
   "cell_type": "code",
   "execution_count": 9,
   "metadata": {},
   "outputs": [
    {
     "name": "stdout",
     "output_type": "stream",
     "text": [
      "[250.24318365 113.97140265 271.83297656]\n"
     ]
    }
   ],
   "source": [
    "probe_distance_from_tip = 2.05\n",
    "centerpoint = pcxz+p_y*254 + p_y*probe_distance_from_tip\n",
    "2.05\n",
    "print(centerpoint)"
   ]
  },
  {
   "cell_type": "code",
   "execution_count": null,
   "metadata": {},
   "outputs": [],
   "source": [
    "import numpy as np\n",
    "\n",
    "center = np.array([100,100,100])\n",
    "radius = 50\n",
    "npoints = 5\n",
    "\n",
    "x = np.linspace(center[0]-radius, center[0]+radius, 2*npoints)\n",
    "y = np.linspace(center[1]-radius, center[1]+radius, 2*npoints)\n",
    "z = np.linspace(center[2]-radius, center[2]+radius, 2*npoints)\n",
    "\n",
    "xx, yy, zz = np.meshgrid(x,y,z)\n",
    "\n",
    "res = (xx-center[0])**2+(yy-center[1])**2+(zz-center[2])**2<=radius**2\n",
    "#print(np.shape(res))\n",
    "#print(res)\n",
    "\n",
    "it = np.nditer(res, flags=['f_index'])\n",
    "for entry in it:\n",
    "    if entry:\n",
    "        pass\n",
    "        #print(it.index)\n",
    "\n",
    "for iz in range(len(z)):\n",
    "    for iy in range(len(y)):\n",
    "        for ix in range(len(x)):\n",
    "            if res[ix,iy,iz]:\n",
    "                print(f\"{x[ix]}, {y[iy]}, {z[iz]}\")"
   ]
  },
  {
   "cell_type": "code",
   "execution_count": null,
   "metadata": {},
   "outputs": [],
   "source": []
  }
 ],
 "metadata": {
  "kernelspec": {
   "display_name": "base",
   "language": "python",
   "name": "python3"
  },
  "language_info": {
   "codemirror_mode": {
    "name": "ipython",
    "version": 3
   },
   "file_extension": ".py",
   "mimetype": "text/x-python",
   "name": "python",
   "nbconvert_exporter": "python",
   "pygments_lexer": "ipython3",
   "version": "3.9.2"
  }
 },
 "nbformat": 4,
 "nbformat_minor": 2
}
