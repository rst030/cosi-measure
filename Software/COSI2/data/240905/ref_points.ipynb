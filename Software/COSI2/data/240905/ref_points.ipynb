{
 "cells": [
  {
   "cell_type": "code",
   "execution_count": 2,
   "metadata": {},
   "outputs": [
    {
     "name": "stdout",
     "output_type": "stream",
     "text": [
      "hi\n",
      "[235.  450.5 302. ]\n"
     ]
    }
   ],
   "source": [
    "print(\"hi\")\n",
    "import numpy as np\n",
    "# magnet facing upwards\n",
    "pr=np.array([5.000,455.000,297.000]) # 240826\n",
    "pl=np.array([465.000,446.000,307.000]) # 240826\n",
    "pt=np.array([238.00,450.000,533.000]) # X:238.000 Y:439.000 Z:530.000\n",
    "\n",
    "pcxz=(pr+pl)/2\n",
    "\n",
    "print(pcxz)"
   ]
  },
  {
   "cell_type": "code",
   "execution_count": 5,
   "metadata": {},
   "outputs": [
    {
     "name": "stdout",
     "output_type": "stream",
     "text": [
      "[  3.   -0.5 231. ]\n",
      "[-460.    9.  -10.]\n",
      "[-230.     4.5   -5. ]\n",
      "[  3.   -0.5 231. ]\n",
      "[-1.73825868e-02 -9.99848474e-01  9.35767317e-04]\n",
      "[230.63610158 199.48804072 302.23492438]\n"
     ]
    }
   ],
   "source": [
    "pz = pt - pcxz\n",
    "print(pz)\n",
    "px = pr-pl\n",
    "print(px)\n",
    "py = np.cross(px,pz)\n",
    "py\n",
    "p_x = pr-pcxz\n",
    "print(p_x)\n",
    "p_z = pt-pcxz\n",
    "print(p_z)\n",
    "p_y_big = np.cross(p_z,px)+pcxz\n",
    "p_y = p_y_big/np.linalg.norm(p_y_big)\n",
    "print(p_y)\n",
    "probe_distance_from_tip = 2.05\n",
    "centerpoint = pcxz+p_y*(240+9) + p_y*probe_distance_from_tip\n",
    "2.05\n",
    "print(centerpoint)"
   ]
  },
  {
   "cell_type": "code",
   "execution_count": 6,
   "metadata": {},
   "outputs": [
    {
     "data": {
      "text/plain": [
       "1.2173611111111111"
      ]
     },
     "execution_count": 6,
     "metadata": {},
     "output_type": "execute_result"
    }
   ],
   "source": [
    "2.5*1753/60/60"
   ]
  },
  {
   "cell_type": "code",
   "execution_count": 12,
   "metadata": {},
   "outputs": [
    {
     "data": {
      "text/plain": [
       "-3157.894736842107"
      ]
     },
     "execution_count": 12,
     "metadata": {},
     "output_type": "execute_result"
    }
   ],
   "source": [
    "(0.41-0.56)/47.5*1e6"
   ]
  },
  {
   "cell_type": "code",
   "execution_count": null,
   "metadata": {},
   "outputs": [],
   "source": []
  },
  {
   "cell_type": "code",
   "execution_count": null,
   "metadata": {},
   "outputs": [],
   "source": []
  },
  {
   "cell_type": "code",
   "execution_count": null,
   "metadata": {},
   "outputs": [],
   "source": []
  },
  {
   "cell_type": "code",
   "execution_count": null,
   "metadata": {},
   "outputs": [],
   "source": []
  },
  {
   "cell_type": "code",
   "execution_count": null,
   "metadata": {},
   "outputs": [],
   "source": []
  },
  {
   "cell_type": "code",
   "execution_count": null,
   "metadata": {},
   "outputs": [],
   "source": []
  },
  {
   "cell_type": "code",
   "execution_count": null,
   "metadata": {},
   "outputs": [],
   "source": []
  }
 ],
 "metadata": {
  "kernelspec": {
   "display_name": "base",
   "language": "python",
   "name": "python3"
  },
  "language_info": {
   "codemirror_mode": {
    "name": "ipython",
    "version": 3
   },
   "file_extension": ".py",
   "mimetype": "text/x-python",
   "name": "python",
   "nbconvert_exporter": "python",
   "pygments_lexer": "ipython3",
   "version": "3.9.2"
  }
 },
 "nbformat": 4,
 "nbformat_minor": 2
}
