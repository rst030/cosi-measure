{
 "cells": [
  {
   "cell_type": "code",
   "execution_count": 1,
   "metadata": {},
   "outputs": [
    {
     "name": "stdout",
     "output_type": "stream",
     "text": [
      "hi\n",
      "[268.5  420.5  205.88]\n"
     ]
    }
   ],
   "source": [
    "print(\"hi\")\n",
    "import numpy as np\n",
    "# magnet facing upwards\n",
    "pr=np.array([40.000,418.000,200.880]) # X:40.000 Y:418.000 Z:200.880\n",
    "pl=np.array([497.000,423.00,210.880]) # X:497.000 Y:423.000 Z:210.880\n",
    "pt=np.array([273.000,422.000,435.880]) # X:273.000 Y:422.000 Z:435.880\n",
    "\n",
    "pcxz=(pr+pl)/2\n",
    "\n",
    "print(pcxz)"
   ]
  },
  {
   "cell_type": "code",
   "execution_count": 6,
   "metadata": {},
   "outputs": [
    {
     "name": "stdout",
     "output_type": "stream",
     "text": [
      "[  4.5   1.5 230. ]\n",
      "[-457.   -5.  -10.]\n",
      "[-228.5   -2.5   -5. ]\n",
      "[  4.5   1.5 230. ]\n",
      "[ 0.01341041 -0.99987561  0.00830213]\n",
      "[271.86668288 169.48122809 207.96424896]\n"
     ]
    }
   ],
   "source": [
    "pz = pt - pcxz\n",
    "print(pz)\n",
    "px = pr-pl\n",
    "print(px)\n",
    "py = np.cross(px,pz)\n",
    "py\n",
    "p_x = pr-pcxz\n",
    "print(p_x)\n",
    "p_z = pt-pcxz\n",
    "print(p_z)\n",
    "p_y_big = np.cross(p_z,px)+pcxz\n",
    "p_y = p_y_big/np.linalg.norm(p_y_big)\n",
    "print(p_y)\n",
    "probe_distance_from_tip = 2.05\n",
    "centerpoint = pcxz+p_y*(240+9) + p_y*probe_distance_from_tip\n",
    "2.05\n",
    "print(centerpoint)"
   ]
  },
  {
   "cell_type": "code",
   "execution_count": null,
   "metadata": {},
   "outputs": [],
   "source": []
  },
  {
   "cell_type": "code",
   "execution_count": null,
   "metadata": {},
   "outputs": [],
   "source": []
  },
  {
   "cell_type": "code",
   "execution_count": null,
   "metadata": {},
   "outputs": [],
   "source": []
  },
  {
   "cell_type": "code",
   "execution_count": null,
   "metadata": {},
   "outputs": [],
   "source": []
  },
  {
   "cell_type": "code",
   "execution_count": null,
   "metadata": {},
   "outputs": [],
   "source": []
  },
  {
   "cell_type": "code",
   "execution_count": null,
   "metadata": {},
   "outputs": [],
   "source": []
  },
  {
   "cell_type": "code",
   "execution_count": null,
   "metadata": {},
   "outputs": [],
   "source": []
  },
  {
   "cell_type": "code",
   "execution_count": null,
   "metadata": {},
   "outputs": [],
   "source": []
  },
  {
   "cell_type": "code",
   "execution_count": null,
   "metadata": {},
   "outputs": [],
   "source": []
  }
 ],
 "metadata": {
  "kernelspec": {
   "display_name": "base",
   "language": "python",
   "name": "python3"
  },
  "language_info": {
   "codemirror_mode": {
    "name": "ipython",
    "version": 3
   },
   "file_extension": ".py",
   "mimetype": "text/x-python",
   "name": "python",
   "nbconvert_exporter": "python",
   "pygments_lexer": "ipython3",
   "version": "3.9.2"
  }
 },
 "nbformat": 4,
 "nbformat_minor": 2
}
