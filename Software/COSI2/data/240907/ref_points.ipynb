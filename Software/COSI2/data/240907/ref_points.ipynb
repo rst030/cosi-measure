{
 "cells": [
  {
   "cell_type": "code",
   "execution_count": 3,
   "metadata": {},
   "outputs": [
    {
     "name": "stdout",
     "output_type": "stream",
     "text": [
      "hi\n",
      "[231.75 415.75 275.72]\n"
     ]
    }
   ],
   "source": [
    "print(\"hi\")\n",
    "import numpy as np\n",
    "# magnet facing upwards\n",
    "pr=np.array([2.000,416.500,270.720 ]) # 240913 X:2.000 Y:416.500 Z:270.720 \n",
    "pl=np.array([461.500,415.000,280.720]) # 240913 X:461.500 Y:415.000 Z:280.720\n",
    "pt=np.array([235.000,416.500,505.720]) # X:235.000 Y:416.500 Z:505.720\n",
    "\n",
    "pcxz=(pr+pl)/2\n",
    "\n",
    "print(pcxz)"
   ]
  },
  {
   "cell_type": "code",
   "execution_count": 4,
   "metadata": {},
   "outputs": [
    {
     "name": "stdout",
     "output_type": "stream",
     "text": [
      "[  3.25   0.75 230.  ]\n",
      "[-459.5    1.5  -10. ]\n",
      "[-229.75    0.75   -5.  ]\n",
      "[  3.25   0.75 230.  ]\n",
      "[-0.00114739 -0.99998169  0.00594097]\n",
      "[231.46194728 164.70459572 277.21148095]\n"
     ]
    }
   ],
   "source": [
    "pz = pt - pcxz\n",
    "print(pz)\n",
    "px = pr-pl\n",
    "print(px)\n",
    "py = np.cross(px,pz)\n",
    "py\n",
    "p_x = pr-pcxz\n",
    "print(p_x)\n",
    "p_z = pt-pcxz\n",
    "print(p_z)\n",
    "p_y_big = np.cross(p_z,px)+pcxz\n",
    "p_y = p_y_big/np.linalg.norm(p_y_big)\n",
    "print(p_y)\n",
    "probe_distance_from_tip = 2.05\n",
    "centerpoint = pcxz+p_y*(240+9) + p_y*probe_distance_from_tip\n",
    "\n",
    "print(centerpoint)"
   ]
  },
  {
   "cell_type": "code",
   "execution_count": 8,
   "metadata": {},
   "outputs": [
    {
     "name": "stdout",
     "output_type": "stream",
     "text": [
      "3591.3640018287315\n",
      "59.85606669714552\n",
      "0.997601111619092\n"
     ]
    }
   ],
   "source": [
    "step = 10\n",
    "radius = 95\n",
    "npts = 4/3*np.pi*(radius/step)**3\n",
    "t = npts #s\n",
    "print(t)\n",
    "print(t/60)\n",
    "print(t/60/60)\n"
   ]
  },
  {
   "cell_type": "code",
   "execution_count": 14,
   "metadata": {},
   "outputs": [
    {
     "name": "stdout",
     "output_type": "stream",
     "text": [
      "9\n",
      "9.444444444444445\n"
     ]
    }
   ],
   "source": [
    "radius = 85\n",
    "resol = 10\n",
    "nperrad = int(radius/resol)+1\n",
    "print(nperrad)\n",
    "print(radius/nperrad)"
   ]
  },
  {
   "cell_type": "code",
   "execution_count": null,
   "metadata": {},
   "outputs": [],
   "source": []
  },
  {
   "cell_type": "code",
   "execution_count": null,
   "metadata": {},
   "outputs": [],
   "source": []
  },
  {
   "cell_type": "code",
   "execution_count": null,
   "metadata": {},
   "outputs": [],
   "source": []
  },
  {
   "cell_type": "code",
   "execution_count": null,
   "metadata": {},
   "outputs": [],
   "source": []
  },
  {
   "cell_type": "code",
   "execution_count": null,
   "metadata": {},
   "outputs": [],
   "source": []
  },
  {
   "cell_type": "code",
   "execution_count": null,
   "metadata": {},
   "outputs": [],
   "source": []
  },
  {
   "cell_type": "code",
   "execution_count": null,
   "metadata": {},
   "outputs": [],
   "source": []
  }
 ],
 "metadata": {
  "kernelspec": {
   "display_name": "base",
   "language": "python",
   "name": "python3"
  },
  "language_info": {
   "codemirror_mode": {
    "name": "ipython",
    "version": 3
   },
   "file_extension": ".py",
   "mimetype": "text/x-python",
   "name": "python",
   "nbconvert_exporter": "python",
   "pygments_lexer": "ipython3",
   "version": "3.9.2"
  }
 },
 "nbformat": 4,
 "nbformat_minor": 2
}
