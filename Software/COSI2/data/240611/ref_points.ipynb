{
 "cells": [
  {
   "cell_type": "code",
   "execution_count": 1,
   "metadata": {},
   "outputs": [
    {
     "name": "stdout",
     "output_type": "stream",
     "text": [
      "hi\n",
      "[252.  362.5 174.5]\n"
     ]
    }
   ],
   "source": [
    "print(\"hi\")\n",
    "import numpy as np\n",
    "# magnet facing cosi\n",
    "pr=np.array([9,370,168]) # X:9.000 Y:370.000 Z:168.000\n",
    "pl=np.array([495,355,181]) # X:495.000 Y:355.000 Z:181.000\n",
    "pt=np.array([254,367,420]) # X:254.000 Y:367.000 Z:420.000\n",
    "\n",
    "pcxz=(pr+pl)/2\n",
    "\n",
    "print(pcxz)"
   ]
  },
  {
   "cell_type": "code",
   "execution_count": 2,
   "metadata": {},
   "outputs": [
    {
     "name": "stdout",
     "output_type": "stream",
     "text": [
      "[  2.    4.5 245.5]\n"
     ]
    }
   ],
   "source": [
    "pz = pt - pcxz\n",
    "print(pz)"
   ]
  },
  {
   "cell_type": "code",
   "execution_count": 3,
   "metadata": {},
   "outputs": [
    {
     "name": "stdout",
     "output_type": "stream",
     "text": [
      "[-486   15  -13]\n"
     ]
    }
   ],
   "source": [
    "px = pr-pl\n",
    "print(px)"
   ]
  },
  {
   "cell_type": "code",
   "execution_count": 4,
   "metadata": {},
   "outputs": [],
   "source": [
    "py = np.cross(px,pz)"
   ]
  },
  {
   "cell_type": "code",
   "execution_count": 5,
   "metadata": {},
   "outputs": [
    {
     "data": {
      "text/plain": [
       "array([  3741., 119287.,  -2217.])"
      ]
     },
     "execution_count": 5,
     "metadata": {},
     "output_type": "execute_result"
    }
   ],
   "source": [
    "py"
   ]
  },
  {
   "cell_type": "code",
   "execution_count": 6,
   "metadata": {},
   "outputs": [
    {
     "name": "stdout",
     "output_type": "stream",
     "text": [
      "[-243.     7.5   -6.5]\n"
     ]
    }
   ],
   "source": [
    "p_x = pr-pcxz\n",
    "print(p_x)"
   ]
  },
  {
   "cell_type": "code",
   "execution_count": 7,
   "metadata": {},
   "outputs": [
    {
     "name": "stdout",
     "output_type": "stream",
     "text": [
      "[  2.    4.5 245.5]\n"
     ]
    }
   ],
   "source": [
    "p_z = pt-pcxz\n",
    "print(p_z)"
   ]
  },
  {
   "cell_type": "code",
   "execution_count": 8,
   "metadata": {},
   "outputs": [
    {
     "name": "stdout",
     "output_type": "stream",
     "text": [
      "[-0.0293194  -0.99936805  0.02009669]\n"
     ]
    }
   ],
   "source": [
    "p_y_big = np.cross(p_z,px)+pcxz\n",
    "p_y = p_y_big/np.linalg.norm(p_y_big)\n",
    "print(p_y)"
   ]
  },
  {
   "cell_type": "code",
   "execution_count": 9,
   "metadata": {},
   "outputs": [
    {
     "name": "stdout",
     "output_type": "stream",
     "text": [
      "[245.48962698 140.59032489 178.96246979]\n"
     ]
    }
   ],
   "source": [
    "probe_distance_from_tip = 2.05\n",
    "centerpoint = pcxz+p_y*220 + p_y*probe_distance_from_tip\n",
    "\n",
    "print(centerpoint)"
   ]
  },
  {
   "cell_type": "code",
   "execution_count": null,
   "metadata": {},
   "outputs": [],
   "source": []
  },
  {
   "cell_type": "code",
   "execution_count": null,
   "metadata": {},
   "outputs": [],
   "source": []
  }
 ],
 "metadata": {
  "kernelspec": {
   "display_name": "base",
   "language": "python",
   "name": "python3"
  },
  "language_info": {
   "codemirror_mode": {
    "name": "ipython",
    "version": 3
   },
   "file_extension": ".py",
   "mimetype": "text/x-python",
   "name": "python",
   "nbconvert_exporter": "python",
   "pygments_lexer": "ipython3",
   "version": "3.9.2"
  }
 },
 "nbformat": 4,
 "nbformat_minor": 2
}
