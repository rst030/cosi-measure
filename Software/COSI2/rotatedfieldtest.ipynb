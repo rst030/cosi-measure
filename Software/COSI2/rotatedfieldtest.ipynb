{
 "cells": [
  {
   "cell_type": "code",
   "execution_count": null,
   "metadata": {},
   "outputs": [],
   "source": [
    "import numpy as np\n",
    "import matplotlib.pyplot as plt\n",
    "%matplotlib inline\n",
    "fig = plt.figure()\n",
    "ax = fig.add_axes(111) \n",
    "x = np.linspace(1,3,10)\n",
    "y = np.linspace(-1,1,10)\n",
    "ax.plot(x,y,'x')\n",
    "\n",
    "X,Y = np.meshgrid(x,y)\n",
    "\n",
    "print(Y)"
   ]
  }
 ],
 "metadata": {
  "language_info": {
   "name": "python"
  }
 },
 "nbformat": 4,
 "nbformat_minor": 2
}
